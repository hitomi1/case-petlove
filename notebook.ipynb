{
 "cells": [
  {
   "cell_type": "code",
   "execution_count": 1,
   "metadata": {},
   "outputs": [],
   "source": [
    "import numpy as np\n",
    "import pandas as pd\n",
    "from pyspark.sql import SparkSession\n",
    "from pyspark.sql.functions import count, when, col, isnan, to_date, floor, datediff, current_date, round\n",
    "import matplotlib.pyplot as plt\n",
    "from pyspark.sql.types import FloatType"
   ]
  },
  {
   "cell_type": "code",
   "execution_count": 2,
   "metadata": {},
   "outputs": [
    {
     "data": {
      "text/html": [
       "\n",
       "            <div>\n",
       "                <p><b>SparkSession - in-memory</b></p>\n",
       "                \n",
       "        <div>\n",
       "            <p><b>SparkContext</b></p>\n",
       "\n",
       "            <p><a href=\"http://host.docker.internal:4040\">Spark UI</a></p>\n",
       "\n",
       "            <dl>\n",
       "              <dt>Version</dt>\n",
       "                <dd><code>v3.4.0</code></dd>\n",
       "              <dt>Master</dt>\n",
       "                <dd><code>local[*]</code></dd>\n",
       "              <dt>AppName</dt>\n",
       "                <dd><code>case-petlove</code></dd>\n",
       "            </dl>\n",
       "        </div>\n",
       "        \n",
       "            </div>\n",
       "        "
      ],
      "text/plain": [
       "<pyspark.sql.session.SparkSession at 0x2216f8f8cd0>"
      ]
     },
     "execution_count": 2,
     "metadata": {},
     "output_type": "execute_result"
    }
   ],
   "source": [
    "spark = SparkSession.builder.appName(\"case-petlove\").getOrCreate()\n",
    "spark"
   ]
  },
  {
   "cell_type": "code",
   "execution_count": 3,
   "metadata": {},
   "outputs": [],
   "source": [
    "df = spark.read.csv(\"data/data-test-analytics.csv\", header=True, inferSchema = True)"
   ]
  },
  {
   "cell_type": "code",
   "execution_count": 4,
   "metadata": {},
   "outputs": [
    {
     "name": "stdout",
     "output_type": "stream",
     "text": [
      "+--------------------+-----------------+-----------------+----------+--------------------+--------------------+--------------------+-----------------+------+-------+-----------------+-----+--------------------+------------------+----------------+--------------+----------------+----------+-------+----------------+\n",
      "|                  id|       created_at|       updated_at|deleted_at|           name_hash|          email_hash|        address_hash|       birth_date|status|version|             city|state|        neighborhood|last_date_purchase|  average_ticket|items_quantity|     all_revenue|all_orders|recency|marketing_source|\n",
      "+--------------------+-----------------+-----------------+----------+--------------------+--------------------+--------------------+-----------------+------+-------+-----------------+-----+--------------------+------------------+----------------+--------------+----------------+----------+-------+----------------+\n",
      "|8bf7960e-3b93-468...|08/15/17 07:05 AM|01/14/21 11:23 AM|      null|312d206168a318614...|83eb3aed9a44377df...|8b4bfaa0cbc41a16f...|07/10/74 12:00 AM|active| 2.31.7| Peixoto da Praia|   AM|  Aparecida 7ª Seção| 01/14/21 11:23 AM|151.142941888541|            10|906.857651331245|         6|     35|             crm|\n",
      "|a39535b5-4647-468...|12/31/19 09:53 PM|01/08/21 11:23 AM|      null|de448fcb47d0d6a87...|72678bb35e2ac84ed...|22f1cfa1847f38da3...|07/06/40 12:00 AM|paused|3.30.12|        Fernandes|   RR|        Santa Isabel| 01/08/21 11:23 AM|236.991789979188|             4|236.991789979188|         1|     41|  organic_search|\n",
      "|dc067cd2-c021-42b...|03/07/19 11:46 PM|01/07/21 11:23 AM|      null|cb09e447ddc382833...|668f4ee9add29c7bd...|6cb47446a086ee648...|03/18/63 12:00 AM|active| 3.28.9|            Lopes|   RR|             Estrela| 01/07/21 11:23 AM|211.955597446163|            13| 2331.5115719078|        11|     42|  organic_search|\n",
      "|b5e4caeb-3a9b-49e...|07/21/18 10:17 AM|01/10/21 11:23 AM|      null|52593437a405b11b3...|d3fb45188d95c8d7c...|0a6f0c54db1e6f193...|11/21/80 12:00 AM|active| 3.34.3|  Campos do Campo|   PE|            Confisco| 01/10/21 11:23 AM|204.113226530216|             8|1224.67935918129|         6|     39|  organic_search|\n",
      "|d4ff61fc-f008-4e1...|06/08/18 12:09 PM|01/18/21 11:23 AM|      null|dbda4b778a966c219...|a0f76bc49b4c43327...|143b9f169b4fa1692...|07/07/59 12:00 AM|active| 3.19.8|        das Neves|   RJ|Vila Suzana Segun...| 01/18/21 11:23 AM| 252.94099747406|             9|2023.52797979248|         8|     31|             crm|\n",
      "+--------------------+-----------------+-----------------+----------+--------------------+--------------------+--------------------+-----------------+------+-------+-----------------+-----+--------------------+------------------+----------------+--------------+----------------+----------+-------+----------------+\n",
      "only showing top 5 rows\n",
      "\n"
     ]
    }
   ],
   "source": [
    "df.show(5)"
   ]
  },
  {
   "cell_type": "code",
   "execution_count": 5,
   "metadata": {},
   "outputs": [
    {
     "name": "stdout",
     "output_type": "stream",
     "text": [
      "+---+----------+----------+----------+---------+----------+------------+----------+------+-------+----+-----+------------+------------------+--------------+--------------+-----------+----------+-------+----------------+\n",
      "| id|created_at|updated_at|deleted_at|name_hash|email_hash|address_hash|birth_date|status|version|city|state|neighborhood|last_date_purchase|average_ticket|items_quantity|all_revenue|all_orders|recency|marketing_source|\n",
      "+---+----------+----------+----------+---------+----------+------------+----------+------+-------+----+-----+------------+------------------+--------------+--------------+-----------+----------+-------+----------------+\n",
      "|  0|         0|         0|      9495|        0|         0|           0|         0|     0|      0|   0|    0|           0|                 0|             0|             0|          0|         0|      0|               0|\n",
      "+---+----------+----------+----------+---------+----------+------------+----------+------+-------+----+-----+------------+------------------+--------------+--------------+-----------+----------+-------+----------------+\n",
      "\n"
     ]
    }
   ],
   "source": [
    "df.select(\n",
    "    [count\n",
    "        (when\n",
    "            (col(c).contains('None') | \\\n",
    "            col(c).contains('Null') | \\\n",
    "            (col(c) == '') | \\\n",
    "            col(c).isNull() | \\\n",
    "            isnan(c), c)\n",
    "        ).alias(c)\n",
    "    for c in df.columns]).show()"
   ]
  },
  {
   "cell_type": "code",
   "execution_count": 6,
   "metadata": {},
   "outputs": [],
   "source": [
    "df = df.drop('name_hash', 'email_hash', 'address_hash')"
   ]
  },
  {
   "cell_type": "code",
   "execution_count": 7,
   "metadata": {},
   "outputs": [
    {
     "name": "stdout",
     "output_type": "stream",
     "text": [
      "root\n",
      " |-- id: string (nullable = true)\n",
      " |-- created_at: string (nullable = true)\n",
      " |-- updated_at: string (nullable = true)\n",
      " |-- deleted_at: string (nullable = true)\n",
      " |-- birth_date: string (nullable = true)\n",
      " |-- status: string (nullable = true)\n",
      " |-- version: string (nullable = true)\n",
      " |-- city: string (nullable = true)\n",
      " |-- state: string (nullable = true)\n",
      " |-- neighborhood: string (nullable = true)\n",
      " |-- last_date_purchase: string (nullable = true)\n",
      " |-- average_ticket: double (nullable = true)\n",
      " |-- items_quantity: integer (nullable = true)\n",
      " |-- all_revenue: double (nullable = true)\n",
      " |-- all_orders: integer (nullable = true)\n",
      " |-- recency: integer (nullable = true)\n",
      " |-- marketing_source: string (nullable = true)\n",
      "\n"
     ]
    }
   ],
   "source": [
    "df.printSchema()"
   ]
  },
  {
   "cell_type": "code",
   "execution_count": 8,
   "metadata": {},
   "outputs": [
    {
     "name": "stdout",
     "output_type": "stream",
     "text": [
      "+-------+--------------------+-----------------+-----------------+-----------------+-----------------+------+-------+--------------------+-----+------------+------------------+------------------+------------------+-----------------+-----------------+-----------------+-----------------+\n",
      "|summary|                  id|       created_at|       updated_at|       deleted_at|       birth_date|status|version|                city|state|neighborhood|last_date_purchase|    average_ticket|    items_quantity|      all_revenue|       all_orders|          recency| marketing_source|\n",
      "+-------+--------------------+-----------------+-----------------+-----------------+-----------------+------+-------+--------------------+-----+------------+------------------+------------------+------------------+-----------------+-----------------+-----------------+-----------------+\n",
      "|  count|               10000|            10000|            10000|              505|            10000| 10000|  10000|               10000|10000|       10000|             10000|             10000|             10000|            10000|            10000|            10000|            10000|\n",
      "|   mean|                null|             null|             null|             null|             null|  null|   null|                null| null|        null|              null|216.89470899663164|            8.4998|1174.888603173679|           5.4154|          67.1929|             null|\n",
      "| stddev|                null|             null|             null|             null|             null|  null|   null|                null| null|        null|              null|22.757212925911904|3.0260395984793593| 763.141973268378|3.457576944021984|175.7232755116574|             null|\n",
      "|    min|0004a482-4870-470...|01/01/17 04:52 AM|01/01/21 11:23 AM|01/02/17 08:11 PM|01/01/41 12:00 AM|active|0.21.10|             Almeida|   AC|  Aarão Reis| 01/01/21 11:23 AM|   131.37867160292|                 1|              0.0|                0|                1|              crm|\n",
      "|    max|fffb9c25-3330-4a9...|12/31/20 11:47 PM|12/31/20 11:23 AM|12/31/20 03:55 AM|12/31/94 12:00 AM|paused|7.46.10| das Neves dos Do...|   TO|        Ápia| 12/31/20 11:23 AM|  303.386847619665|                19| 3225.65416285414|               11|             1820|telegram_whatsapp|\n",
      "+-------+--------------------+-----------------+-----------------+-----------------+-----------------+------+-------+--------------------+-----+------------+------------------+------------------+------------------+-----------------+-----------------+-----------------+-----------------+\n",
      "\n"
     ]
    }
   ],
   "source": [
    "df.describe().show()"
   ]
  },
  {
   "cell_type": "code",
   "execution_count": 9,
   "metadata": {},
   "outputs": [],
   "source": [
    "df = df.withColumn('created_at', to_date(df['created_at'], 'MM/dd/yy hh:mm a')) \\\n",
    "       .withColumn('updated_at', to_date(df['updated_at'], 'MM/dd/yy hh:mm a')) \\\n",
    "       .withColumn('deleted_at', to_date(df['deleted_at'], 'MM/dd/yy hh:mm a')) \\\n",
    "       .withColumn('birth_date', to_date(df['birth_date'], 'MM/dd/yy hh:mm a')-36525) \\\n",
    "       .withColumn('last_date_purchase', to_date(df['last_date_purchase'], 'MM/dd/yy hh:mm a')) "
   ]
  },
  {
   "cell_type": "code",
   "execution_count": 10,
   "metadata": {},
   "outputs": [
    {
     "name": "stdout",
     "output_type": "stream",
     "text": [
      "+--------------------+----------+----------+----------+----------+------+-------+-----------------+-----+------------------+------------------+----------------+--------------+----------------+----------+-------+----------------+\n",
      "|                  id|created_at|updated_at|deleted_at|birth_date|status|version|             city|state|      neighborhood|last_date_purchase|  average_ticket|items_quantity|     all_revenue|all_orders|recency|marketing_source|\n",
      "+--------------------+----------+----------+----------+----------+------+-------+-----------------+-----+------------------+------------------+----------------+--------------+----------------+----------+-------+----------------+\n",
      "|8bf7960e-3b93-468...|2017-08-15|2021-01-14|      null|1974-07-10|active| 2.31.7| Peixoto da Praia|   AM|Aparecida 7ª Seção|        2021-01-14|151.142941888541|            10|906.857651331245|         6|     35|             crm|\n",
      "+--------------------+----------+----------+----------+----------+------+-------+-----------------+-----+------------------+------------------+----------------+--------------+----------------+----------+-------+----------------+\n",
      "only showing top 1 row\n",
      "\n"
     ]
    }
   ],
   "source": [
    "df.show(1)"
   ]
  },
  {
   "cell_type": "code",
   "execution_count": 11,
   "metadata": {},
   "outputs": [],
   "source": [
    "df = df.withColumn('age',floor(datediff(current_date(), to_date(col('birth_date'), 'M/d/yyyy'))/365.24).cast('integer'))"
   ]
  },
  {
   "cell_type": "code",
   "execution_count": 12,
   "metadata": {},
   "outputs": [],
   "source": [
    "df = df.withColumn('average_ticket', round(df[\"average_ticket\"].cast(FloatType()),2))  \\\n",
    "       .withColumn('all_revenue', round(df[\"all_revenue\"].cast(FloatType()), 2) ) "
   ]
  },
  {
   "cell_type": "code",
   "execution_count": 13,
   "metadata": {},
   "outputs": [
    {
     "name": "stdout",
     "output_type": "stream",
     "text": [
      "+--------------------+----------+----------+----------+----------+------+-------+-----------------+-----+------------------+------------------+--------------+--------------+-----------+----------+-------+----------------+---+\n",
      "|                  id|created_at|updated_at|deleted_at|birth_date|status|version|             city|state|      neighborhood|last_date_purchase|average_ticket|items_quantity|all_revenue|all_orders|recency|marketing_source|age|\n",
      "+--------------------+----------+----------+----------+----------+------+-------+-----------------+-----+------------------+------------------+--------------+--------------+-----------+----------+-------+----------------+---+\n",
      "|8bf7960e-3b93-468...|2017-08-15|2021-01-14|      null|1974-07-10|active| 2.31.7| Peixoto da Praia|   AM|Aparecida 7ª Seção|        2021-01-14|        151.14|            10|     906.86|         6|     35|             crm| 48|\n",
      "+--------------------+----------+----------+----------+----------+------+-------+-----------------+-----+------------------+------------------+--------------+--------------+-----------+----------+-------+----------------+---+\n",
      "only showing top 1 row\n",
      "\n"
     ]
    }
   ],
   "source": [
    "df.show(1)"
   ]
  },
  {
   "attachments": {},
   "cell_type": "markdown",
   "metadata": {},
   "source": [
    "Todos os campos estão como string e não queremos que alguns deles sejam string, como por exemplo:\n",
    "\n",
    "created_at\n",
    "updated_at\n",
    "deleted_at\n",
    "birth_date\n",
    "status \n",
    "last_date_purchase\n",
    "average_ticket\n",
    "items_quantity\n",
    "all_revenue\n",
    "all_orders\n",
    "recency"
   ]
  },
  {
   "cell_type": "code",
   "execution_count": 14,
   "metadata": {},
   "outputs": [
    {
     "name": "stdout",
     "output_type": "stream",
     "text": [
      "root\n",
      " |-- id: string (nullable = true)\n",
      " |-- created_at: date (nullable = true)\n",
      " |-- updated_at: date (nullable = true)\n",
      " |-- deleted_at: date (nullable = true)\n",
      " |-- birth_date: date (nullable = true)\n",
      " |-- status: string (nullable = true)\n",
      " |-- version: string (nullable = true)\n",
      " |-- city: string (nullable = true)\n",
      " |-- state: string (nullable = true)\n",
      " |-- neighborhood: string (nullable = true)\n",
      " |-- last_date_purchase: date (nullable = true)\n",
      " |-- average_ticket: float (nullable = true)\n",
      " |-- items_quantity: integer (nullable = true)\n",
      " |-- all_revenue: float (nullable = true)\n",
      " |-- all_orders: integer (nullable = true)\n",
      " |-- recency: integer (nullable = true)\n",
      " |-- marketing_source: string (nullable = true)\n",
      " |-- age: integer (nullable = true)\n",
      "\n"
     ]
    }
   ],
   "source": [
    "df.printSchema()"
   ]
  },
  {
   "attachments": {},
   "cell_type": "markdown",
   "metadata": {},
   "source": [
    "1.  Numérico\n",
    "\t1. Discreta\n",
    "\t\t1. created_at\n",
    "\t\t2. updated_at\n",
    "\t\t3. deleted_at\n",
    "\t\t4. birth_date\n",
    "\t\t5. last_date_purchase\n",
    "\t\t6. items_quantity\n",
    "\t\t7. recency\n",
    "\t\t8. age\n",
    "\t2.  Contínua\n",
    "\t\t1. average_ticket\n",
    "\t\t2. all_revenue\n",
    "\t\t3. all_orders\n",
    "2. Categoricas\n",
    "\t1. ID\n",
    "\t2. status: 3 valores distintos\n",
    "\t3. version:\n",
    "\t4. city\n",
    "\t5. state\n",
    "\t6. neighborhood\n",
    "\t7. marketing_source\n",
    "\n",
    "\n"
   ]
  },
  {
   "cell_type": "code",
   "execution_count": 15,
   "metadata": {},
   "outputs": [
    {
     "name": "stdout",
     "output_type": "stream",
     "text": [
      "+-------+--------------------+------+-------+--------------------+-----+------------+------------------+------------------+------------------+-----------------+-----------------+-----------------+-----------------+\n",
      "|summary|                  id|status|version|                city|state|neighborhood|    average_ticket|    items_quantity|       all_revenue|       all_orders|          recency| marketing_source|              age|\n",
      "+-------+--------------------+------+-------+--------------------+-----+------------+------------------+------------------+------------------+-----------------+-----------------+-----------------+-----------------+\n",
      "|  count|               10000| 10000|  10000|               10000|10000|       10000|             10000|             10000|             10000|            10000|            10000|            10000|            10000|\n",
      "|   mean|                null|  null|   null|                null| null|        null|216.89478496551513|            8.4998|1174.8886079193114|           5.4154|          67.1929|             null|          54.6311|\n",
      "| stddev|                null|  null|   null|                null| null|        null|  22.7572006290407|3.0260395984793593| 763.1419527588278|3.457576944021984|175.7232755116574|             null|16.04953493242574|\n",
      "|    min|0004a482-4870-470...|active|0.21.10|             Almeida|   AC|  Aarão Reis|            131.38|                 1|               0.0|                0|                1|              crm|               27|\n",
      "|    max|fffb9c25-3330-4a9...|paused|7.46.10| das Neves dos Do...|   TO|        Ápia|            303.39|                19|           3225.65|               11|             1820|telegram_whatsapp|               83|\n",
      "+-------+--------------------+------+-------+--------------------+-----+------------+------------------+------------------+------------------+-----------------+-----------------+-----------------+-----------------+\n",
      "\n"
     ]
    }
   ],
   "source": [
    "df.describe().show()"
   ]
  },
  {
   "cell_type": "code",
   "execution_count": 204,
   "metadata": {},
   "outputs": [],
   "source": [
    "dfp = df.toPandas()\n"
   ]
  },
  {
   "cell_type": "code",
   "execution_count": 205,
   "metadata": {},
   "outputs": [],
   "source": [
    "\n",
    "dummies = pd.get_dummies(dfp['status'])\n",
    "dfp = dfp.join(dummies)\n"
   ]
  },
  {
   "cell_type": "code",
   "execution_count": 206,
   "metadata": {},
   "outputs": [
    {
     "data": {
      "text/html": [
       "<div>\n",
       "<style scoped>\n",
       "    .dataframe tbody tr th:only-of-type {\n",
       "        vertical-align: middle;\n",
       "    }\n",
       "\n",
       "    .dataframe tbody tr th {\n",
       "        vertical-align: top;\n",
       "    }\n",
       "\n",
       "    .dataframe thead th {\n",
       "        text-align: right;\n",
       "    }\n",
       "</style>\n",
       "<table border=\"1\" class=\"dataframe\">\n",
       "  <thead>\n",
       "    <tr style=\"text-align: right;\">\n",
       "      <th></th>\n",
       "      <th>id</th>\n",
       "      <th>created_at</th>\n",
       "      <th>updated_at</th>\n",
       "      <th>deleted_at</th>\n",
       "      <th>birth_date</th>\n",
       "      <th>status</th>\n",
       "      <th>version</th>\n",
       "      <th>city</th>\n",
       "      <th>state</th>\n",
       "      <th>neighborhood</th>\n",
       "      <th>...</th>\n",
       "      <th>average_ticket</th>\n",
       "      <th>items_quantity</th>\n",
       "      <th>all_revenue</th>\n",
       "      <th>all_orders</th>\n",
       "      <th>recency</th>\n",
       "      <th>marketing_source</th>\n",
       "      <th>age</th>\n",
       "      <th>active</th>\n",
       "      <th>canceled</th>\n",
       "      <th>paused</th>\n",
       "    </tr>\n",
       "  </thead>\n",
       "  <tbody>\n",
       "    <tr>\n",
       "      <th>0</th>\n",
       "      <td>8bf7960e-3b93-468b-856e-6c6c5b56f52b</td>\n",
       "      <td>2017-08-15</td>\n",
       "      <td>2021-01-14</td>\n",
       "      <td>None</td>\n",
       "      <td>1974-07-10</td>\n",
       "      <td>active</td>\n",
       "      <td>2.31.7</td>\n",
       "      <td>Peixoto da Praia</td>\n",
       "      <td>AM</td>\n",
       "      <td>Aparecida 7ª Seção</td>\n",
       "      <td>...</td>\n",
       "      <td>151.139999</td>\n",
       "      <td>10</td>\n",
       "      <td>906.859985</td>\n",
       "      <td>6</td>\n",
       "      <td>35</td>\n",
       "      <td>crm</td>\n",
       "      <td>48</td>\n",
       "      <td>1</td>\n",
       "      <td>0</td>\n",
       "      <td>0</td>\n",
       "    </tr>\n",
       "    <tr>\n",
       "      <th>1</th>\n",
       "      <td>a39535b5-4647-4680-b4f6-3aed57c1f1ff</td>\n",
       "      <td>2019-12-31</td>\n",
       "      <td>2021-01-08</td>\n",
       "      <td>None</td>\n",
       "      <td>1940-07-06</td>\n",
       "      <td>paused</td>\n",
       "      <td>3.30.12</td>\n",
       "      <td>Fernandes</td>\n",
       "      <td>RR</td>\n",
       "      <td>Santa Isabel</td>\n",
       "      <td>...</td>\n",
       "      <td>236.990005</td>\n",
       "      <td>4</td>\n",
       "      <td>236.990005</td>\n",
       "      <td>1</td>\n",
       "      <td>41</td>\n",
       "      <td>organic_search</td>\n",
       "      <td>82</td>\n",
       "      <td>0</td>\n",
       "      <td>0</td>\n",
       "      <td>1</td>\n",
       "    </tr>\n",
       "    <tr>\n",
       "      <th>2</th>\n",
       "      <td>dc067cd2-c021-42bd-8c0e-beb267280e66</td>\n",
       "      <td>2019-03-07</td>\n",
       "      <td>2021-01-07</td>\n",
       "      <td>None</td>\n",
       "      <td>1963-03-18</td>\n",
       "      <td>active</td>\n",
       "      <td>3.28.9</td>\n",
       "      <td>Lopes</td>\n",
       "      <td>RR</td>\n",
       "      <td>Estrela</td>\n",
       "      <td>...</td>\n",
       "      <td>211.960007</td>\n",
       "      <td>13</td>\n",
       "      <td>2331.510010</td>\n",
       "      <td>11</td>\n",
       "      <td>42</td>\n",
       "      <td>organic_search</td>\n",
       "      <td>60</td>\n",
       "      <td>1</td>\n",
       "      <td>0</td>\n",
       "      <td>0</td>\n",
       "    </tr>\n",
       "    <tr>\n",
       "      <th>3</th>\n",
       "      <td>b5e4caeb-3a9b-49ed-aa33-5acd06b162c1</td>\n",
       "      <td>2018-07-21</td>\n",
       "      <td>2021-01-10</td>\n",
       "      <td>None</td>\n",
       "      <td>1980-11-21</td>\n",
       "      <td>active</td>\n",
       "      <td>3.34.3</td>\n",
       "      <td>Campos do Campo</td>\n",
       "      <td>PE</td>\n",
       "      <td>Confisco</td>\n",
       "      <td>...</td>\n",
       "      <td>204.110001</td>\n",
       "      <td>8</td>\n",
       "      <td>1224.680054</td>\n",
       "      <td>6</td>\n",
       "      <td>39</td>\n",
       "      <td>organic_search</td>\n",
       "      <td>42</td>\n",
       "      <td>1</td>\n",
       "      <td>0</td>\n",
       "      <td>0</td>\n",
       "    </tr>\n",
       "    <tr>\n",
       "      <th>4</th>\n",
       "      <td>d4ff61fc-f008-4e19-b8ae-bd70cfa3ae27</td>\n",
       "      <td>2018-06-08</td>\n",
       "      <td>2021-01-18</td>\n",
       "      <td>None</td>\n",
       "      <td>1959-07-07</td>\n",
       "      <td>active</td>\n",
       "      <td>3.19.8</td>\n",
       "      <td>das Neves</td>\n",
       "      <td>RJ</td>\n",
       "      <td>Vila Suzana Segunda Seção</td>\n",
       "      <td>...</td>\n",
       "      <td>252.940002</td>\n",
       "      <td>9</td>\n",
       "      <td>2023.530029</td>\n",
       "      <td>8</td>\n",
       "      <td>31</td>\n",
       "      <td>crm</td>\n",
       "      <td>63</td>\n",
       "      <td>1</td>\n",
       "      <td>0</td>\n",
       "      <td>0</td>\n",
       "    </tr>\n",
       "    <tr>\n",
       "      <th>...</th>\n",
       "      <td>...</td>\n",
       "      <td>...</td>\n",
       "      <td>...</td>\n",
       "      <td>...</td>\n",
       "      <td>...</td>\n",
       "      <td>...</td>\n",
       "      <td>...</td>\n",
       "      <td>...</td>\n",
       "      <td>...</td>\n",
       "      <td>...</td>\n",
       "      <td>...</td>\n",
       "      <td>...</td>\n",
       "      <td>...</td>\n",
       "      <td>...</td>\n",
       "      <td>...</td>\n",
       "      <td>...</td>\n",
       "      <td>...</td>\n",
       "      <td>...</td>\n",
       "      <td>...</td>\n",
       "      <td>...</td>\n",
       "      <td>...</td>\n",
       "    </tr>\n",
       "    <tr>\n",
       "      <th>9995</th>\n",
       "      <td>90c9fd5f-80d2-4f59-9970-6b3e6dac5f57</td>\n",
       "      <td>2017-09-12</td>\n",
       "      <td>2021-01-31</td>\n",
       "      <td>None</td>\n",
       "      <td>1961-09-12</td>\n",
       "      <td>active</td>\n",
       "      <td>4.30.12</td>\n",
       "      <td>Souza</td>\n",
       "      <td>RN</td>\n",
       "      <td>Concórdia</td>\n",
       "      <td>...</td>\n",
       "      <td>215.080002</td>\n",
       "      <td>5</td>\n",
       "      <td>1075.400024</td>\n",
       "      <td>5</td>\n",
       "      <td>18</td>\n",
       "      <td>paid_search</td>\n",
       "      <td>61</td>\n",
       "      <td>1</td>\n",
       "      <td>0</td>\n",
       "      <td>0</td>\n",
       "    </tr>\n",
       "    <tr>\n",
       "      <th>9996</th>\n",
       "      <td>0edb7aec-8816-4904-bcd7-cbe141391441</td>\n",
       "      <td>2018-04-20</td>\n",
       "      <td>2021-01-18</td>\n",
       "      <td>None</td>\n",
       "      <td>1969-09-15</td>\n",
       "      <td>active</td>\n",
       "      <td>4.28.13</td>\n",
       "      <td>Silveira</td>\n",
       "      <td>AL</td>\n",
       "      <td>São Francisco</td>\n",
       "      <td>...</td>\n",
       "      <td>254.529999</td>\n",
       "      <td>10</td>\n",
       "      <td>2290.729980</td>\n",
       "      <td>9</td>\n",
       "      <td>31</td>\n",
       "      <td>organic_search</td>\n",
       "      <td>53</td>\n",
       "      <td>1</td>\n",
       "      <td>0</td>\n",
       "      <td>0</td>\n",
       "    </tr>\n",
       "    <tr>\n",
       "      <th>9997</th>\n",
       "      <td>30130652-d616-4b40-adbb-189e3351016c</td>\n",
       "      <td>2017-08-14</td>\n",
       "      <td>2021-01-03</td>\n",
       "      <td>None</td>\n",
       "      <td>1960-01-14</td>\n",
       "      <td>active</td>\n",
       "      <td>3.18.11</td>\n",
       "      <td>Martins</td>\n",
       "      <td>SC</td>\n",
       "      <td>Frei Leopoldo</td>\n",
       "      <td>...</td>\n",
       "      <td>208.740005</td>\n",
       "      <td>8</td>\n",
       "      <td>1252.449951</td>\n",
       "      <td>6</td>\n",
       "      <td>46</td>\n",
       "      <td>paid_search</td>\n",
       "      <td>63</td>\n",
       "      <td>1</td>\n",
       "      <td>0</td>\n",
       "      <td>0</td>\n",
       "    </tr>\n",
       "    <tr>\n",
       "      <th>9998</th>\n",
       "      <td>37b52952-afdd-425a-9149-4012ea48ac87</td>\n",
       "      <td>2017-01-19</td>\n",
       "      <td>2021-01-09</td>\n",
       "      <td>None</td>\n",
       "      <td>1957-08-06</td>\n",
       "      <td>active</td>\n",
       "      <td>5.51.6</td>\n",
       "      <td>Gomes das Flores</td>\n",
       "      <td>PA</td>\n",
       "      <td>Cdi Jatoba</td>\n",
       "      <td>...</td>\n",
       "      <td>211.169998</td>\n",
       "      <td>9</td>\n",
       "      <td>0.000000</td>\n",
       "      <td>0</td>\n",
       "      <td>40</td>\n",
       "      <td>direct</td>\n",
       "      <td>65</td>\n",
       "      <td>1</td>\n",
       "      <td>0</td>\n",
       "      <td>0</td>\n",
       "    </tr>\n",
       "    <tr>\n",
       "      <th>9999</th>\n",
       "      <td>97518d4a-88a1-49ff-a5cc-ad1e8967afdc</td>\n",
       "      <td>2017-02-18</td>\n",
       "      <td>2021-01-16</td>\n",
       "      <td>None</td>\n",
       "      <td>1943-09-14</td>\n",
       "      <td>active</td>\n",
       "      <td>4.36.11</td>\n",
       "      <td>Alves</td>\n",
       "      <td>MT</td>\n",
       "      <td>Vila Mangueiras</td>\n",
       "      <td>...</td>\n",
       "      <td>259.790009</td>\n",
       "      <td>7</td>\n",
       "      <td>2857.649902</td>\n",
       "      <td>11</td>\n",
       "      <td>33</td>\n",
       "      <td>direct</td>\n",
       "      <td>79</td>\n",
       "      <td>1</td>\n",
       "      <td>0</td>\n",
       "      <td>0</td>\n",
       "    </tr>\n",
       "  </tbody>\n",
       "</table>\n",
       "<p>10000 rows × 21 columns</p>\n",
       "</div>"
      ],
      "text/plain": [
       "                                        id  created_at  updated_at deleted_at  \\\n",
       "0     8bf7960e-3b93-468b-856e-6c6c5b56f52b  2017-08-15  2021-01-14       None   \n",
       "1     a39535b5-4647-4680-b4f6-3aed57c1f1ff  2019-12-31  2021-01-08       None   \n",
       "2     dc067cd2-c021-42bd-8c0e-beb267280e66  2019-03-07  2021-01-07       None   \n",
       "3     b5e4caeb-3a9b-49ed-aa33-5acd06b162c1  2018-07-21  2021-01-10       None   \n",
       "4     d4ff61fc-f008-4e19-b8ae-bd70cfa3ae27  2018-06-08  2021-01-18       None   \n",
       "...                                    ...         ...         ...        ...   \n",
       "9995  90c9fd5f-80d2-4f59-9970-6b3e6dac5f57  2017-09-12  2021-01-31       None   \n",
       "9996  0edb7aec-8816-4904-bcd7-cbe141391441  2018-04-20  2021-01-18       None   \n",
       "9997  30130652-d616-4b40-adbb-189e3351016c  2017-08-14  2021-01-03       None   \n",
       "9998  37b52952-afdd-425a-9149-4012ea48ac87  2017-01-19  2021-01-09       None   \n",
       "9999  97518d4a-88a1-49ff-a5cc-ad1e8967afdc  2017-02-18  2021-01-16       None   \n",
       "\n",
       "      birth_date  status  version               city state  \\\n",
       "0     1974-07-10  active   2.31.7   Peixoto da Praia    AM   \n",
       "1     1940-07-06  paused  3.30.12          Fernandes    RR   \n",
       "2     1963-03-18  active   3.28.9              Lopes    RR   \n",
       "3     1980-11-21  active   3.34.3    Campos do Campo    PE   \n",
       "4     1959-07-07  active   3.19.8          das Neves    RJ   \n",
       "...          ...     ...      ...                ...   ...   \n",
       "9995  1961-09-12  active  4.30.12              Souza    RN   \n",
       "9996  1969-09-15  active  4.28.13           Silveira    AL   \n",
       "9997  1960-01-14  active  3.18.11            Martins    SC   \n",
       "9998  1957-08-06  active   5.51.6   Gomes das Flores    PA   \n",
       "9999  1943-09-14  active  4.36.11              Alves    MT   \n",
       "\n",
       "                   neighborhood  ... average_ticket  items_quantity  \\\n",
       "0            Aparecida 7ª Seção  ...     151.139999              10   \n",
       "1                  Santa Isabel  ...     236.990005               4   \n",
       "2                       Estrela  ...     211.960007              13   \n",
       "3                      Confisco  ...     204.110001               8   \n",
       "4     Vila Suzana Segunda Seção  ...     252.940002               9   \n",
       "...                         ...  ...            ...             ...   \n",
       "9995                  Concórdia  ...     215.080002               5   \n",
       "9996              São Francisco  ...     254.529999              10   \n",
       "9997              Frei Leopoldo  ...     208.740005               8   \n",
       "9998                 Cdi Jatoba  ...     211.169998               9   \n",
       "9999            Vila Mangueiras  ...     259.790009               7   \n",
       "\n",
       "      all_revenue  all_orders  recency  marketing_source age  active  \\\n",
       "0      906.859985           6       35               crm  48       1   \n",
       "1      236.990005           1       41    organic_search  82       0   \n",
       "2     2331.510010          11       42    organic_search  60       1   \n",
       "3     1224.680054           6       39    organic_search  42       1   \n",
       "4     2023.530029           8       31               crm  63       1   \n",
       "...           ...         ...      ...               ...  ..     ...   \n",
       "9995  1075.400024           5       18       paid_search  61       1   \n",
       "9996  2290.729980           9       31    organic_search  53       1   \n",
       "9997  1252.449951           6       46       paid_search  63       1   \n",
       "9998     0.000000           0       40            direct  65       1   \n",
       "9999  2857.649902          11       33            direct  79       1   \n",
       "\n",
       "      canceled  paused  \n",
       "0            0       0  \n",
       "1            0       1  \n",
       "2            0       0  \n",
       "3            0       0  \n",
       "4            0       0  \n",
       "...        ...     ...  \n",
       "9995         0       0  \n",
       "9996         0       0  \n",
       "9997         0       0  \n",
       "9998         0       0  \n",
       "9999         0       0  \n",
       "\n",
       "[10000 rows x 21 columns]"
      ]
     },
     "execution_count": 206,
     "metadata": {},
     "output_type": "execute_result"
    }
   ],
   "source": [
    "dfp"
   ]
  },
  {
   "cell_type": "code",
   "execution_count": 16,
   "metadata": {},
   "outputs": [
    {
     "name": "stdout",
     "output_type": "stream",
     "text": [
      "DF Shape: 10000 x 18\n"
     ]
    }
   ],
   "source": [
    "print(f'DF Shape: {df.count()} x {len(df.columns)}')\n"
   ]
  },
  {
   "cell_type": "code",
   "execution_count": 208,
   "metadata": {},
   "outputs": [],
   "source": [
    "dfp.to_csv(\"data-clean.csv\")"
   ]
  },
  {
   "cell_type": "code",
   "execution_count": 21,
   "metadata": {},
   "outputs": [],
   "source": [
    "df.toPandas().to_csv(\"data.csv\")"
   ]
  },
  {
   "cell_type": "code",
   "execution_count": 128,
   "metadata": {},
   "outputs": [
    {
     "name": "stdout",
     "output_type": "stream",
     "text": [
      "+--------+----+\n",
      "|  status|  id|\n",
      "+--------+----+\n",
      "|canceled| 505|\n",
      "|  active|8524|\n",
      "|  paused| 971|\n",
      "+--------+----+\n",
      "\n"
     ]
    }
   ],
   "source": [
    "\n",
    "\n",
    "# calculate the total transaction amount for each customer\n",
    "customer_totals = df.groupBy(\"status\").agg(count(\"id\").alias(\"id\"))\n",
    "\n",
    "# show the results\n",
    "customer_totals.show()\n"
   ]
  },
  {
   "cell_type": "code",
   "execution_count": 129,
   "metadata": {
    "tags": [
     "naorodar"
    ]
   },
   "outputs": [
    {
     "data": {
      "image/png": "[encoded data removed]",
      "text/plain": [
       "<Figure size 800x550 with 1 Axes>"
      ]
     },
     "metadata": {},
     "output_type": "display_data"
    }
   ],
   "source": [
    "amounts = df.select(\"all_revenue\").rdd.flatMap(lambda x: x).collect()\n",
    "plt.hist(amounts, bins=np.arange(0, max(amounts)+10, 10))\n",
    "plt.title(\"Histogram of Transaction Amounts\")\n",
    "plt.xlabel(\"Amount\")\n",
    "plt.ylabel(\"Count\")\n",
    "plt.show()"
   ]
  },
  {
   "cell_type": "code",
   "execution_count": null,
   "metadata": {},
   "outputs": [],
   "source": []
  },
  {
   "cell_type": "code",
   "execution_count": null,
   "metadata": {},
   "outputs": [],
   "source": []
  },
  {
   "cell_type": "code",
   "execution_count": null,
   "metadata": {},
   "outputs": [],
   "source": []
  },
  {
   "cell_type": "code",
   "execution_count": null,
   "metadata": {},
   "outputs": [],
   "source": []
  },
  {
   "cell_type": "code",
   "execution_count": null,
   "metadata": {},
   "outputs": [],
   "source": []
  },
  {
   "cell_type": "code",
   "execution_count": null,
   "metadata": {},
   "outputs": [],
   "source": []
  },
  {
   "cell_type": "code",
   "execution_count": null,
   "metadata": {},
   "outputs": [],
   "source": []
  },
  {
   "cell_type": "code",
   "execution_count": null,
   "metadata": {},
   "outputs": [],
   "source": []
  },
  {
   "cell_type": "code",
   "execution_count": null,
   "metadata": {},
   "outputs": [],
   "source": []
  },
  {
   "cell_type": "code",
   "execution_count": null,
   "metadata": {},
   "outputs": [],
   "source": []
  }
 ],
 "metadata": {
  "kernelspec": {
   "display_name": "Python 3",
   "language": "python",
   "name": "python3"
  },
  "language_info": {
   "codemirror_mode": {
    "name": "ipython",
    "version": 3
   },
   "file_extension": ".py",
   "mimetype": "text/x-python",
   "name": "python",
   "nbconvert_exporter": "python",
   "pygments_lexer": "ipython3",
   "version": "3.11.3"
  },
  "orig_nbformat": 4
 },
 "nbformat": 4,
 "nbformat_minor": 2
}
